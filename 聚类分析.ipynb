{
 "cells": [
  {
   "cell_type": "code",
   "execution_count": 15,
   "id": "5f6428a7",
   "metadata": {
    "ExecuteTime": {
     "end_time": "2023-05-30T02:06:20.506856Z",
     "start_time": "2023-05-30T02:06:19.914917Z"
    }
   },
   "outputs": [
    {
     "data": {
      "text/html": [
       "<div>\n",
       "<style scoped>\n",
       "    .dataframe tbody tr th:only-of-type {\n",
       "        vertical-align: middle;\n",
       "    }\n",
       "\n",
       "    .dataframe tbody tr th {\n",
       "        vertical-align: top;\n",
       "    }\n",
       "\n",
       "    .dataframe thead th {\n",
       "        text-align: right;\n",
       "    }\n",
       "</style>\n",
       "<table border=\"1\" class=\"dataframe\">\n",
       "  <thead>\n",
       "    <tr style=\"text-align: right;\">\n",
       "      <th></th>\n",
       "      <th>收件省份</th>\n",
       "      <th>2021</th>\n",
       "      <th>2022</th>\n",
       "      <th>2023</th>\n",
       "    </tr>\n",
       "  </thead>\n",
       "  <tbody>\n",
       "    <tr>\n",
       "      <th>0</th>\n",
       "      <td>广东省</td>\n",
       "      <td>4024.114566</td>\n",
       "      <td>4654.918657</td>\n",
       "      <td>1735.756260</td>\n",
       "    </tr>\n",
       "    <tr>\n",
       "      <th>1</th>\n",
       "      <td>江苏省</td>\n",
       "      <td>3338.719201</td>\n",
       "      <td>3597.863206</td>\n",
       "      <td>1372.742621</td>\n",
       "    </tr>\n",
       "    <tr>\n",
       "      <th>2</th>\n",
       "      <td>浙江省</td>\n",
       "      <td>2536.225925</td>\n",
       "      <td>3281.454071</td>\n",
       "      <td>1393.644142</td>\n",
       "    </tr>\n",
       "    <tr>\n",
       "      <th>3</th>\n",
       "      <td>山东省</td>\n",
       "      <td>2054.185335</td>\n",
       "      <td>2101.684300</td>\n",
       "      <td>892.496155</td>\n",
       "    </tr>\n",
       "    <tr>\n",
       "      <th>4</th>\n",
       "      <td>上海</td>\n",
       "      <td>1535.047970</td>\n",
       "      <td>1455.666726</td>\n",
       "      <td>628.031478</td>\n",
       "    </tr>\n",
       "  </tbody>\n",
       "</table>\n",
       "</div>"
      ],
      "text/plain": [
       "  收件省份         2021         2022         2023\n",
       "0  广东省  4024.114566  4654.918657  1735.756260\n",
       "1  江苏省  3338.719201  3597.863206  1372.742621\n",
       "2  浙江省  2536.225925  3281.454071  1393.644142\n",
       "3  山东省  2054.185335  2101.684300   892.496155\n",
       "4   上海  1535.047970  1455.666726   628.031478"
      ]
     },
     "execution_count": 15,
     "metadata": {},
     "output_type": "execute_result"
    }
   ],
   "source": [
    "import pandas as pd\n",
    "import numpy as np\n",
    "import matplotlib.pyplot as plt\n",
    "from sklearn.cluster import KMeans\n",
    "df  = pd.read_excel(r\"C:\\Users\\lenovo\\Desktop\\分省净销售额.xlsx\")\n",
    "df.head()"
   ]
  },
  {
   "cell_type": "code",
   "execution_count": 13,
   "id": "f7114cd7",
   "metadata": {
    "ExecuteTime": {
     "end_time": "2023-05-30T02:04:49.480922Z",
     "start_time": "2023-05-30T02:04:49.465125Z"
    },
    "scrolled": true
   },
   "outputs": [
    {
     "data": {
      "text/html": [
       "<div>\n",
       "<style scoped>\n",
       "    .dataframe tbody tr th:only-of-type {\n",
       "        vertical-align: middle;\n",
       "    }\n",
       "\n",
       "    .dataframe tbody tr th {\n",
       "        vertical-align: top;\n",
       "    }\n",
       "\n",
       "    .dataframe thead th {\n",
       "        text-align: right;\n",
       "    }\n",
       "</style>\n",
       "<table border=\"1\" class=\"dataframe\">\n",
       "  <thead>\n",
       "    <tr style=\"text-align: right;\">\n",
       "      <th></th>\n",
       "      <th>2021</th>\n",
       "      <th>2022</th>\n",
       "    </tr>\n",
       "  </thead>\n",
       "  <tbody>\n",
       "    <tr>\n",
       "      <th>0</th>\n",
       "      <td>4024.114566</td>\n",
       "      <td>4654.918657</td>\n",
       "    </tr>\n",
       "    <tr>\n",
       "      <th>1</th>\n",
       "      <td>3338.719201</td>\n",
       "      <td>3597.863206</td>\n",
       "    </tr>\n",
       "    <tr>\n",
       "      <th>2</th>\n",
       "      <td>2536.225925</td>\n",
       "      <td>3281.454071</td>\n",
       "    </tr>\n",
       "    <tr>\n",
       "      <th>3</th>\n",
       "      <td>2054.185335</td>\n",
       "      <td>2101.684300</td>\n",
       "    </tr>\n",
       "    <tr>\n",
       "      <th>4</th>\n",
       "      <td>1535.047970</td>\n",
       "      <td>1455.666726</td>\n",
       "    </tr>\n",
       "  </tbody>\n",
       "</table>\n",
       "</div>"
      ],
      "text/plain": [
       "          2021         2022\n",
       "0  4024.114566  4654.918657\n",
       "1  3338.719201  3597.863206\n",
       "2  2536.225925  3281.454071\n",
       "3  2054.185335  2101.684300\n",
       "4  1535.047970  1455.666726"
      ]
     },
     "execution_count": 13,
     "metadata": {},
     "output_type": "execute_result"
    }
   ],
   "source": [
    "df1 = df.iloc[:,1:3]\n",
    "df1.head()"
   ]
  },
  {
   "cell_type": "markdown",
   "id": "2195267f",
   "metadata": {},
   "source": [
    "**散点图**"
   ]
  },
  {
   "cell_type": "code",
   "execution_count": 59,
   "id": "2ca59695",
   "metadata": {
    "ExecuteTime": {
     "end_time": "2023-05-30T05:53:41.288648Z",
     "start_time": "2023-05-30T05:53:41.172990Z"
    },
    "scrolled": true
   },
   "outputs": [
    {
     "data": {
      "image/png": "[encoded data removed]",
      "text/plain": [
       "<Figure size 640x480 with 1 Axes>"
      ]
     },
     "metadata": {},
     "output_type": "display_data"
    }
   ],
   "source": [
    "plt.scatter(df1.iloc[:,0],df1.iloc[:,1],c=\"red\",marker=\"o\",label=\"sample\")\n",
    "plt.legend()\n",
    "plt.show()"
   ]
  },
  {
   "cell_type": "markdown",
   "id": "19ba0948",
   "metadata": {},
   "source": [
    "KMeans是一种常见的聚类算法，适用于许多场景，例如：\n",
    "\n",
    "1. 分析和理解数据集的结构；\n",
    "\n",
    "2. 检测异常值和异常情况；\n",
    "\n",
    "3. 用户行为分析；\n",
    "\n",
    "4. 图像分割；\n",
    "\n",
    "5. DNA序列分析等。\n",
    "\n",
    "KMeans算法的好处是实现简单、可伸缩性好、速度快，并且在处理大型数据集时效果优异。\n",
    "\n",
    "然而，KMeans算法也存在一些缺点：\n",
    "\n",
    "1. 需要预先指定簇的数量，过多或过少都会导致效果不佳；\n",
    "\n",
    "2. 对于密度不相等、尺寸不相等和类内方差不相等的簇不适用；\n",
    "\n",
    "3. 对于非球形、不规则形状的簇，效果不佳；\n",
    "\n",
    "4. 对于噪声、异常值敏感，需要对数据进行预处理。\n",
    "\n",
    "因此，在使用KMeans算法时，需要根据具体问题的特征和数据集属性进行评估和预处理，以便获得最好的聚类结果。在实际应用中也会与其他聚类算法一起使用，以最终得到最佳的聚类结果。"
   ]
  },
  {
   "attachments": {
    "image.png": {
     "image/png": "[encoded data removed]"
    }
   },
   "cell_type": "markdown",
   "id": "cbd6cc4f",
   "metadata": {},
   "source": [
    "**寻找合适的K值**  \n",
    "随着聚类数K的增大，样本划分会更加精细，每个簇的聚合程度会逐渐提高，那么误差平方和**SSE**自然会逐渐变小。并且，当K小于真实聚类数时，由于K的增大会大幅增加每个簇的聚合程度，故SSE的下降幅度会很大，而当K到达真实聚类数时，再增加K所得到的聚合程度回报会迅速变小，所以SSE的下降幅度会骤减，然后随着K值的继续增大而趋于平缓，也就是说SSE和K的关系图是一个手肘的形状，这也是该方法被称为手肘法的原因，而这个肘部对应的K值就是数据的真实聚类数，\n",
    "![image.png](attachment:image.png)"
   ]
  },
  {
   "cell_type": "code",
   "execution_count": 44,
   "id": "3a3d012c",
   "metadata": {
    "ExecuteTime": {
     "end_time": "2023-05-30T03:01:01.550211Z",
     "start_time": "2023-05-30T03:00:58.922563Z"
    },
    "scrolled": true
   },
   "outputs": [
    {
     "name": "stderr",
     "output_type": "stream",
     "text": [
      "D:\\Anaconda\\lib\\site-packages\\sklearn\\cluster\\_kmeans.py:870: FutureWarning: The default value of `n_init` will change from 10 to 'auto' in 1.4. Set the value of `n_init` explicitly to suppress the warning\n",
      "  warnings.warn(\n",
      "D:\\Anaconda\\lib\\site-packages\\sklearn\\cluster\\_kmeans.py:1382: UserWarning: KMeans is known to have a memory leak on Windows with MKL, when there are less chunks than available threads. You can avoid it by setting the environment variable OMP_NUM_THREADS=1.\n",
      "  warnings.warn(\n",
      "D:\\Anaconda\\lib\\site-packages\\sklearn\\cluster\\_kmeans.py:870: FutureWarning: The default value of `n_init` will change from 10 to 'auto' in 1.4. Set the value of `n_init` explicitly to suppress the warning\n",
      "  warnings.warn(\n",
      "D:\\Anaconda\\lib\\site-packages\\sklearn\\cluster\\_kmeans.py:1382: UserWarning: KMeans is known to have a memory leak on Windows with MKL, when there are less chunks than available threads. You can avoid it by setting the environment variable OMP_NUM_THREADS=1.\n",
      "  warnings.warn(\n",
      "D:\\Anaconda\\lib\\site-packages\\sklearn\\cluster\\_kmeans.py:870: FutureWarning: The default value of `n_init` will change from 10 to 'auto' in 1.4. Set the value of `n_init` explicitly to suppress the warning\n",
      "  warnings.warn(\n",
      "D:\\Anaconda\\lib\\site-packages\\sklearn\\cluster\\_kmeans.py:1382: UserWarning: KMeans is known to have a memory leak on Windows with MKL, when there are less chunks than available threads. You can avoid it by setting the environment variable OMP_NUM_THREADS=1.\n",
      "  warnings.warn(\n",
      "D:\\Anaconda\\lib\\site-packages\\sklearn\\cluster\\_kmeans.py:870: FutureWarning: The default value of `n_init` will change from 10 to 'auto' in 1.4. Set the value of `n_init` explicitly to suppress the warning\n",
      "  warnings.warn(\n",
      "D:\\Anaconda\\lib\\site-packages\\sklearn\\cluster\\_kmeans.py:1382: UserWarning: KMeans is known to have a memory leak on Windows with MKL, when there are less chunks than available threads. You can avoid it by setting the environment variable OMP_NUM_THREADS=1.\n",
      "  warnings.warn(\n",
      "D:\\Anaconda\\lib\\site-packages\\sklearn\\cluster\\_kmeans.py:870: FutureWarning: The default value of `n_init` will change from 10 to 'auto' in 1.4. Set the value of `n_init` explicitly to suppress the warning\n",
      "  warnings.warn(\n",
      "D:\\Anaconda\\lib\\site-packages\\sklearn\\cluster\\_kmeans.py:1382: UserWarning: KMeans is known to have a memory leak on Windows with MKL, when there are less chunks than available threads. You can avoid it by setting the environment variable OMP_NUM_THREADS=1.\n",
      "  warnings.warn(\n",
      "D:\\Anaconda\\lib\\site-packages\\sklearn\\cluster\\_kmeans.py:870: FutureWarning: The default value of `n_init` will change from 10 to 'auto' in 1.4. Set the value of `n_init` explicitly to suppress the warning\n",
      "  warnings.warn(\n",
      "D:\\Anaconda\\lib\\site-packages\\sklearn\\cluster\\_kmeans.py:1382: UserWarning: KMeans is known to have a memory leak on Windows with MKL, when there are less chunks than available threads. You can avoid it by setting the environment variable OMP_NUM_THREADS=1.\n",
      "  warnings.warn(\n",
      "D:\\Anaconda\\lib\\site-packages\\sklearn\\cluster\\_kmeans.py:870: FutureWarning: The default value of `n_init` will change from 10 to 'auto' in 1.4. Set the value of `n_init` explicitly to suppress the warning\n",
      "  warnings.warn(\n",
      "D:\\Anaconda\\lib\\site-packages\\sklearn\\cluster\\_kmeans.py:1382: UserWarning: KMeans is known to have a memory leak on Windows with MKL, when there are less chunks than available threads. You can avoid it by setting the environment variable OMP_NUM_THREADS=1.\n",
      "  warnings.warn(\n",
      "D:\\Anaconda\\lib\\site-packages\\sklearn\\cluster\\_kmeans.py:870: FutureWarning: The default value of `n_init` will change from 10 to 'auto' in 1.4. Set the value of `n_init` explicitly to suppress the warning\n",
      "  warnings.warn(\n",
      "D:\\Anaconda\\lib\\site-packages\\sklearn\\cluster\\_kmeans.py:1382: UserWarning: KMeans is known to have a memory leak on Windows with MKL, when there are less chunks than available threads. You can avoid it by setting the environment variable OMP_NUM_THREADS=1.\n",
      "  warnings.warn(\n",
      "D:\\Anaconda\\lib\\site-packages\\sklearn\\cluster\\_kmeans.py:870: FutureWarning: The default value of `n_init` will change from 10 to 'auto' in 1.4. Set the value of `n_init` explicitly to suppress the warning\n",
      "  warnings.warn(\n",
      "D:\\Anaconda\\lib\\site-packages\\sklearn\\cluster\\_kmeans.py:1382: UserWarning: KMeans is known to have a memory leak on Windows with MKL, when there are less chunks than available threads. You can avoid it by setting the environment variable OMP_NUM_THREADS=1.\n",
      "  warnings.warn(\n"
     ]
    },
    {
     "data": {
      "image/png": "[encoded data removed]",
      "text/plain": [
       "<Figure size 640x480 with 1 Axes>"
      ]
     },
     "metadata": {},
     "output_type": "display_data"
    }
   ],
   "source": [
    "num = range(1,10)\n",
    "sse_result = []\n",
    "for k  in num:\n",
    "    kmeans  = KMeans(n_clusters=k)\n",
    "    kmeans.fit(df1)\n",
    "    sse_result.append(kmeans.inertia_)#inertia_表示样本到最近的聚类中心的距离总和\n",
    "plt.plot(num,sse_result,\"b*:\")#'b*:'为线的格式设置，b表示蓝色，*为点的标记，:表示线型为点状线条。\n",
    "plt.xlabel(\"k\")\n",
    "plt.ylabel(\"SSE\")\n",
    "plt.title(\"find the best K value\")\n",
    "plt.show()"
   ]
  },
  {
   "cell_type": "code",
   "execution_count": 52,
   "id": "1a3bdca3",
   "metadata": {
    "ExecuteTime": {
     "end_time": "2023-05-30T03:19:14.589905Z",
     "start_time": "2023-05-30T03:19:13.852987Z"
    }
   },
   "outputs": [
    {
     "name": "stderr",
     "output_type": "stream",
     "text": [
      "D:\\Anaconda\\lib\\site-packages\\sklearn\\cluster\\_kmeans.py:870: FutureWarning: The default value of `n_init` will change from 10 to 'auto' in 1.4. Set the value of `n_init` explicitly to suppress the warning\n",
      "  warnings.warn(\n",
      "D:\\Anaconda\\lib\\site-packages\\sklearn\\cluster\\_kmeans.py:1382: UserWarning: KMeans is known to have a memory leak on Windows with MKL, when there are less chunks than available threads. You can avoid it by setting the environment variable OMP_NUM_THREADS=1.\n",
      "  warnings.warn(\n",
      "D:\\Anaconda\\lib\\site-packages\\sklearn\\cluster\\_kmeans.py:870: FutureWarning: The default value of `n_init` will change from 10 to 'auto' in 1.4. Set the value of `n_init` explicitly to suppress the warning\n",
      "  warnings.warn(\n",
      "D:\\Anaconda\\lib\\site-packages\\sklearn\\cluster\\_kmeans.py:1382: UserWarning: KMeans is known to have a memory leak on Windows with MKL, when there are less chunks than available threads. You can avoid it by setting the environment variable OMP_NUM_THREADS=1.\n",
      "  warnings.warn(\n",
      "D:\\Anaconda\\lib\\site-packages\\sklearn\\cluster\\_kmeans.py:870: FutureWarning: The default value of `n_init` will change from 10 to 'auto' in 1.4. Set the value of `n_init` explicitly to suppress the warning\n",
      "  warnings.warn(\n",
      "D:\\Anaconda\\lib\\site-packages\\sklearn\\cluster\\_kmeans.py:1382: UserWarning: KMeans is known to have a memory leak on Windows with MKL, when there are less chunks than available threads. You can avoid it by setting the environment variable OMP_NUM_THREADS=1.\n",
      "  warnings.warn(\n"
     ]
    },
    {
     "name": "stdout",
     "output_type": "stream",
     "text": [
      "[2 2 2 0 0 0 0 0 0 0 0 0 0 0 0 0 0 1 1 1 1 1 1 1 1 1 1 1 1 1 1 1 1 1 1 1 1\n",
      " 1]\n",
      "[2 2 2 1 1 1 1 1 1 1 3 3 3 3 3 3 3 3 3 3 3 0 0 0 0 0 0 0 0 0 0 0 0 0 0 0 0\n",
      " 0]\n",
      "[4 2 2 1 1 1 1 1 1 1 1 1 1 3 3 3 3 3 3 3 3 3 3 3 3 3 0 0 0 0 0 0 0 0 0 0 0\n",
      " 0]\n"
     ]
    }
   ],
   "source": [
    "# 设置类别数\n",
    "k0 = 3\n",
    "k1 = 4\n",
    "k2 = 5\n",
    "# 训练k均值模型\n",
    "kmeans_0 = KMeans(n_clusters=k0, random_state=0).fit(df1)\n",
    "kmeans_1 = KMeans(n_clusters=k1, random_state=0).fit(df1)\n",
    "kmeans_2 = KMeans(n_clusters=k2, random_state=0).fit(df1)\n",
    "# 输出结果\n",
    "result0 = print(kmeans_0.labels_)\n",
    "result1 = print(kmeans_1.labels_)\n",
    "result2 = print(kmeans_2.labels_)"
   ]
  },
  {
   "cell_type": "code",
   "execution_count": 54,
   "id": "c4d85890",
   "metadata": {
    "ExecuteTime": {
     "end_time": "2023-05-30T03:21:44.797397Z",
     "start_time": "2023-05-30T03:21:44.783308Z"
    }
   },
   "outputs": [
    {
     "data": {
      "text/html": [
       "<div>\n",
       "<style scoped>\n",
       "    .dataframe tbody tr th:only-of-type {\n",
       "        vertical-align: middle;\n",
       "    }\n",
       "\n",
       "    .dataframe tbody tr th {\n",
       "        vertical-align: top;\n",
       "    }\n",
       "\n",
       "    .dataframe thead th {\n",
       "        text-align: right;\n",
       "    }\n",
       "</style>\n",
       "<table border=\"1\" class=\"dataframe\">\n",
       "  <thead>\n",
       "    <tr style=\"text-align: right;\">\n",
       "      <th></th>\n",
       "      <th>收件省份</th>\n",
       "      <th>2021</th>\n",
       "      <th>2022</th>\n",
       "      <th>2023</th>\n",
       "      <th>cluster</th>\n",
       "      <th>cluster2</th>\n",
       "      <th>cluster0</th>\n",
       "      <th>cluster1</th>\n",
       "    </tr>\n",
       "  </thead>\n",
       "  <tbody>\n",
       "    <tr>\n",
       "      <th>0</th>\n",
       "      <td>广东省</td>\n",
       "      <td>4024.114566</td>\n",
       "      <td>4654.918657</td>\n",
       "      <td>1735.756260</td>\n",
       "      <td>2</td>\n",
       "      <td>4</td>\n",
       "      <td>2</td>\n",
       "      <td>2</td>\n",
       "    </tr>\n",
       "    <tr>\n",
       "      <th>1</th>\n",
       "      <td>江苏省</td>\n",
       "      <td>3338.719201</td>\n",
       "      <td>3597.863206</td>\n",
       "      <td>1372.742621</td>\n",
       "      <td>2</td>\n",
       "      <td>2</td>\n",
       "      <td>2</td>\n",
       "      <td>2</td>\n",
       "    </tr>\n",
       "    <tr>\n",
       "      <th>2</th>\n",
       "      <td>浙江省</td>\n",
       "      <td>2536.225925</td>\n",
       "      <td>3281.454071</td>\n",
       "      <td>1393.644142</td>\n",
       "      <td>2</td>\n",
       "      <td>2</td>\n",
       "      <td>2</td>\n",
       "      <td>2</td>\n",
       "    </tr>\n",
       "    <tr>\n",
       "      <th>3</th>\n",
       "      <td>山东省</td>\n",
       "      <td>2054.185335</td>\n",
       "      <td>2101.684300</td>\n",
       "      <td>892.496155</td>\n",
       "      <td>1</td>\n",
       "      <td>1</td>\n",
       "      <td>0</td>\n",
       "      <td>1</td>\n",
       "    </tr>\n",
       "    <tr>\n",
       "      <th>4</th>\n",
       "      <td>上海</td>\n",
       "      <td>1535.047970</td>\n",
       "      <td>1455.666726</td>\n",
       "      <td>628.031478</td>\n",
       "      <td>1</td>\n",
       "      <td>1</td>\n",
       "      <td>0</td>\n",
       "      <td>1</td>\n",
       "    </tr>\n",
       "    <tr>\n",
       "      <th>5</th>\n",
       "      <td>四川省</td>\n",
       "      <td>1191.541538</td>\n",
       "      <td>1273.889102</td>\n",
       "      <td>578.868416</td>\n",
       "      <td>1</td>\n",
       "      <td>1</td>\n",
       "      <td>0</td>\n",
       "      <td>1</td>\n",
       "    </tr>\n",
       "    <tr>\n",
       "      <th>6</th>\n",
       "      <td>湖北省</td>\n",
       "      <td>1099.813324</td>\n",
       "      <td>1191.184682</td>\n",
       "      <td>554.339418</td>\n",
       "      <td>1</td>\n",
       "      <td>1</td>\n",
       "      <td>0</td>\n",
       "      <td>1</td>\n",
       "    </tr>\n",
       "    <tr>\n",
       "      <th>7</th>\n",
       "      <td>安徽省</td>\n",
       "      <td>1090.900001</td>\n",
       "      <td>1217.401745</td>\n",
       "      <td>513.777753</td>\n",
       "      <td>1</td>\n",
       "      <td>1</td>\n",
       "      <td>0</td>\n",
       "      <td>1</td>\n",
       "    </tr>\n",
       "    <tr>\n",
       "      <th>8</th>\n",
       "      <td>北京</td>\n",
       "      <td>1081.770883</td>\n",
       "      <td>1229.994965</td>\n",
       "      <td>476.803098</td>\n",
       "      <td>1</td>\n",
       "      <td>1</td>\n",
       "      <td>0</td>\n",
       "      <td>1</td>\n",
       "    </tr>\n",
       "    <tr>\n",
       "      <th>9</th>\n",
       "      <td>湖南省</td>\n",
       "      <td>1008.872649</td>\n",
       "      <td>1234.353981</td>\n",
       "      <td>458.832634</td>\n",
       "      <td>1</td>\n",
       "      <td>1</td>\n",
       "      <td>0</td>\n",
       "      <td>1</td>\n",
       "    </tr>\n",
       "  </tbody>\n",
       "</table>\n",
       "</div>"
      ],
      "text/plain": [
       "  收件省份         2021         2022         2023  cluster  cluster2  cluster0  \\\n",
       "0  广东省  4024.114566  4654.918657  1735.756260        2         4         2   \n",
       "1  江苏省  3338.719201  3597.863206  1372.742621        2         2         2   \n",
       "2  浙江省  2536.225925  3281.454071  1393.644142        2         2         2   \n",
       "3  山东省  2054.185335  2101.684300   892.496155        1         1         0   \n",
       "4   上海  1535.047970  1455.666726   628.031478        1         1         0   \n",
       "5  四川省  1191.541538  1273.889102   578.868416        1         1         0   \n",
       "6  湖北省  1099.813324  1191.184682   554.339418        1         1         0   \n",
       "7  安徽省  1090.900001  1217.401745   513.777753        1         1         0   \n",
       "8   北京  1081.770883  1229.994965   476.803098        1         1         0   \n",
       "9  湖南省  1008.872649  1234.353981   458.832634        1         1         0   \n",
       "\n",
       "   cluster1  \n",
       "0         2  \n",
       "1         2  \n",
       "2         2  \n",
       "3         1  \n",
       "4         1  \n",
       "5         1  \n",
       "6         1  \n",
       "7         1  \n",
       "8         1  \n",
       "9         1  "
      ]
     },
     "execution_count": 54,
     "metadata": {},
     "output_type": "execute_result"
    }
   ],
   "source": [
    "df[\"cluster0\"] = kmeans_0.labels_\n",
    "df[\"cluster1\"] = kmeans_1.labels_\n",
    "df[\"cluster2\"] = kmeans_2.labels_\n",
    "df.head(10)"
   ]
  },
  {
   "cell_type": "markdown",
   "id": "3e256c34",
   "metadata": {},
   "source": [
    "可以增加k为4时的散点图情况"
   ]
  },
  {
   "cell_type": "code",
   "execution_count": 74,
   "id": "eb9e7857",
   "metadata": {
    "ExecuteTime": {
     "end_time": "2023-05-30T06:12:54.534600Z",
     "start_time": "2023-05-30T06:12:54.408607Z"
    }
   },
   "outputs": [
    {
     "data": {
      "image/png": "[encoded data removed]",
      "text/plain": [
       "<Figure size 640x480 with 1 Axes>"
      ]
     },
     "metadata": {},
     "output_type": "display_data"
    }
   ],
   "source": [
    "plt.scatter(df[df[\"cluster1\"]==0].iloc[:,1],df[df[\"cluster1\"]==0].iloc[:,2],c=\"red\",marker=\"o\",label=\"class0\")\n",
    "plt.scatter(df[df[\"cluster1\"]==1].iloc[:,1],df[df[\"cluster1\"]==1].iloc[:,2],c=\"blue\",marker=\"*\",label=\"class1\")\n",
    "plt.scatter(df[df[\"cluster1\"]==2].iloc[:,1],df[df[\"cluster1\"]==2].iloc[:,2],c=\"black\",marker=\"+\",label=\"class2\")\n",
    "plt.scatter(df[df[\"cluster1\"]==3].iloc[:,1],df[df[\"cluster1\"]==3].iloc[:,2],c=\"green\",marker=\"o\",label=\"class3\")\n",
    "plt.xlabel(\"2021\")\n",
    "plt.ylabel(\"2022\")\n",
    "plt.legend(loc=4)\n",
    "plt.show()"
   ]
  },
  {
   "cell_type": "code",
   "execution_count": 55,
   "id": "2e6fa2bc",
   "metadata": {
    "ExecuteTime": {
     "end_time": "2023-05-30T03:22:27.606930Z",
     "start_time": "2023-05-30T03:22:27.575294Z"
    }
   },
   "outputs": [],
   "source": [
    "df.to_excel(r\"C:\\Users\\lenovo\\Desktop\\分省净销售额2.xlsx\")"
   ]
  },
  {
   "attachments": {},
   "cell_type": "markdown",
   "id": "75ab8ad4",
   "metadata": {},
   "source": [
    "参考资料：  \n",
    "https://zhuanlan.zhihu.com/p/159387112  \n",
    "https://blog.csdn.net/weixin_52398581/article/details/122246255  \n",
    "https://zhuanlan.zhihu.com/p/38668500?utm_id=0  "
   ]
  },
  {
   "cell_type": "code",
   "execution_count": null,
   "id": "2c96c9df",
   "metadata": {},
   "outputs": [],
   "source": []
  }
 ],
 "metadata": {
  "kernelspec": {
   "display_name": "Python 3 (ipykernel)",
   "language": "python",
   "name": "python3"
  },
  "language_info": {
   "codemirror_mode": {
    "name": "ipython",
    "version": 3
   },
   "file_extension": ".py",
   "mimetype": "text/x-python",
   "name": "python",
   "nbconvert_exporter": "python",
   "pygments_lexer": "ipython3",
   "version": "3.9.18"
  },
  "toc": {
   "base_numbering": 1,
   "nav_menu": {},
   "number_sections": true,
   "sideBar": true,
   "skip_h1_title": false,
   "title_cell": "Table of Contents",
   "title_sidebar": "Contents",
   "toc_cell": false,
   "toc_position": {},
   "toc_section_display": true,
   "toc_window_display": false
  }
 },
 "nbformat": 4,
 "nbformat_minor": 5
}
